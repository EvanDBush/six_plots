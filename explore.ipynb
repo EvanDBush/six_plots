{
 "cells": [
  {
   "cell_type": "code",
   "execution_count": 1,
   "id": "001ababa",
   "metadata": {},
   "outputs": [
    {
     "data": {
      "text/html": [
       "<div>\n",
       "<style scoped>\n",
       "    .dataframe tbody tr th:only-of-type {\n",
       "        vertical-align: middle;\n",
       "    }\n",
       "\n",
       "    .dataframe tbody tr th {\n",
       "        vertical-align: top;\n",
       "    }\n",
       "\n",
       "    .dataframe thead th {\n",
       "        text-align: right;\n",
       "    }\n",
       "</style>\n",
       "<table border=\"1\" class=\"dataframe\">\n",
       "  <thead>\n",
       "    <tr style=\"text-align: right;\">\n",
       "      <th></th>\n",
       "      <th>datetime</th>\n",
       "      <th>cash_type</th>\n",
       "      <th>card</th>\n",
       "      <th>money</th>\n",
       "      <th>coffee_name</th>\n",
       "    </tr>\n",
       "  </thead>\n",
       "  <tbody>\n",
       "    <tr>\n",
       "      <th>0</th>\n",
       "      <td>2024-03-01 10:15:50.520</td>\n",
       "      <td>card</td>\n",
       "      <td>ANON-0000-0000-0001</td>\n",
       "      <td>3.87</td>\n",
       "      <td>Latte</td>\n",
       "    </tr>\n",
       "    <tr>\n",
       "      <th>1</th>\n",
       "      <td>2024-03-01 12:19:22.539</td>\n",
       "      <td>card</td>\n",
       "      <td>ANON-0000-0000-0002</td>\n",
       "      <td>3.87</td>\n",
       "      <td>Hot Chocolate</td>\n",
       "    </tr>\n",
       "    <tr>\n",
       "      <th>2</th>\n",
       "      <td>2024-03-01 12:20:18.089</td>\n",
       "      <td>card</td>\n",
       "      <td>ANON-0000-0000-0002</td>\n",
       "      <td>3.87</td>\n",
       "      <td>Hot Chocolate</td>\n",
       "    </tr>\n",
       "    <tr>\n",
       "      <th>3</th>\n",
       "      <td>2024-03-01 13:46:33.006</td>\n",
       "      <td>card</td>\n",
       "      <td>ANON-0000-0000-0003</td>\n",
       "      <td>2.89</td>\n",
       "      <td>Americano</td>\n",
       "    </tr>\n",
       "    <tr>\n",
       "      <th>4</th>\n",
       "      <td>2024-03-01 13:48:14.626</td>\n",
       "      <td>card</td>\n",
       "      <td>ANON-0000-0000-0004</td>\n",
       "      <td>3.87</td>\n",
       "      <td>Latte</td>\n",
       "    </tr>\n",
       "    <tr>\n",
       "      <th>...</th>\n",
       "      <td>...</td>\n",
       "      <td>...</td>\n",
       "      <td>...</td>\n",
       "      <td>...</td>\n",
       "      <td>...</td>\n",
       "    </tr>\n",
       "    <tr>\n",
       "      <th>3631</th>\n",
       "      <td>2025-03-23 10:34:54.894</td>\n",
       "      <td>card</td>\n",
       "      <td>ANON-0000-0000-1158</td>\n",
       "      <td>3.58</td>\n",
       "      <td>Cappuccino</td>\n",
       "    </tr>\n",
       "    <tr>\n",
       "      <th>3632</th>\n",
       "      <td>2025-03-23 14:43:37.362</td>\n",
       "      <td>card</td>\n",
       "      <td>ANON-0000-0000-1315</td>\n",
       "      <td>3.58</td>\n",
       "      <td>Cocoa</td>\n",
       "    </tr>\n",
       "    <tr>\n",
       "      <th>3633</th>\n",
       "      <td>2025-03-23 14:44:16.864</td>\n",
       "      <td>card</td>\n",
       "      <td>ANON-0000-0000-1315</td>\n",
       "      <td>3.58</td>\n",
       "      <td>Cocoa</td>\n",
       "    </tr>\n",
       "    <tr>\n",
       "      <th>3634</th>\n",
       "      <td>2025-03-23 15:47:28.723</td>\n",
       "      <td>card</td>\n",
       "      <td>ANON-0000-0000-1316</td>\n",
       "      <td>2.60</td>\n",
       "      <td>Americano</td>\n",
       "    </tr>\n",
       "    <tr>\n",
       "      <th>3635</th>\n",
       "      <td>2025-03-23 18:11:38.635</td>\n",
       "      <td>card</td>\n",
       "      <td>ANON-0000-0000-1275</td>\n",
       "      <td>3.58</td>\n",
       "      <td>Latte</td>\n",
       "    </tr>\n",
       "  </tbody>\n",
       "</table>\n",
       "<p>3636 rows × 5 columns</p>\n",
       "</div>"
      ],
      "text/plain": [
       "                     datetime cash_type                 card  money  \\\n",
       "0     2024-03-01 10:15:50.520      card  ANON-0000-0000-0001   3.87   \n",
       "1     2024-03-01 12:19:22.539      card  ANON-0000-0000-0002   3.87   \n",
       "2     2024-03-01 12:20:18.089      card  ANON-0000-0000-0002   3.87   \n",
       "3     2024-03-01 13:46:33.006      card  ANON-0000-0000-0003   2.89   \n",
       "4     2024-03-01 13:48:14.626      card  ANON-0000-0000-0004   3.87   \n",
       "...                       ...       ...                  ...    ...   \n",
       "3631  2025-03-23 10:34:54.894      card  ANON-0000-0000-1158   3.58   \n",
       "3632  2025-03-23 14:43:37.362      card  ANON-0000-0000-1315   3.58   \n",
       "3633  2025-03-23 14:44:16.864      card  ANON-0000-0000-1315   3.58   \n",
       "3634  2025-03-23 15:47:28.723      card  ANON-0000-0000-1316   2.60   \n",
       "3635  2025-03-23 18:11:38.635      card  ANON-0000-0000-1275   3.58   \n",
       "\n",
       "        coffee_name  \n",
       "0             Latte  \n",
       "1     Hot Chocolate  \n",
       "2     Hot Chocolate  \n",
       "3         Americano  \n",
       "4             Latte  \n",
       "...             ...  \n",
       "3631     Cappuccino  \n",
       "3632          Cocoa  \n",
       "3633          Cocoa  \n",
       "3634      Americano  \n",
       "3635          Latte  \n",
       "\n",
       "[3636 rows x 5 columns]"
      ]
     },
     "execution_count": 1,
     "metadata": {},
     "output_type": "execute_result"
    }
   ],
   "source": [
    "import numpy as np\n",
    "import pandas as pd\n",
    "import matplotlib.pyplot as plt\n",
    "import seaborn as sns \n",
    "\n",
    "df = pd.read_csv(\"data/clean_coffee_data.csv\")\n",
    "df"
   ]
  },
  {
   "cell_type": "code",
   "execution_count": 2,
   "id": "d41173e6",
   "metadata": {},
   "outputs": [
    {
     "data": {
      "text/plain": [
       "datetime        object\n",
       "cash_type       object\n",
       "card            object\n",
       "money          float64\n",
       "coffee_name     object\n",
       "dtype: object"
      ]
     },
     "execution_count": 2,
     "metadata": {},
     "output_type": "execute_result"
    }
   ],
   "source": [
    "df.shape\n",
    "df.dtypes\n",
    "#df.describe(include=\"all\")"
   ]
  },
  {
   "cell_type": "code",
   "execution_count": 4,
   "id": "63e099d4",
   "metadata": {},
   "outputs": [
    {
     "data": {
      "text/plain": [
       "datetime       datetime64[ns]\n",
       "cash_type              object\n",
       "card                   object\n",
       "money                 float64\n",
       "coffee_name            object\n",
       "dtype: object"
      ]
     },
     "execution_count": 4,
     "metadata": {},
     "output_type": "execute_result"
    }
   ],
   "source": [
    "\n",
    "df['datetime'] = pd.to_datetime(df['datetime'])\n",
    "df.dtypes"
   ]
  },
  {
   "cell_type": "code",
   "execution_count": 6,
   "id": "99175835",
   "metadata": {},
   "outputs": [
    {
     "data": {
      "text/plain": [
       "card\n",
       "ANON-0000-0000-0012    129\n",
       "ANON-0000-0000-0141    108\n",
       "ANON-0000-0000-1163     77\n",
       "ANON-0000-0000-0276     69\n",
       "ANON-0000-0000-0009     67\n",
       "                      ... \n",
       "ANON-0000-0000-0015      1\n",
       "ANON-0000-0000-0014      1\n",
       "ANON-0000-0000-0013      1\n",
       "ANON-0000-0000-0011      1\n",
       "ANON-0000-0000-0010      1\n",
       "Name: count, Length: 1316, dtype: int64"
      ]
     },
     "execution_count": 6,
     "metadata": {},
     "output_type": "execute_result"
    }
   ],
   "source": [
    "df.coffee_name.unique()\n",
    "df.card.unique()\n",
    "df.card.value_counts()\n"
   ]
  },
  {
   "cell_type": "code",
   "execution_count": 9,
   "id": "dcd4dea0",
   "metadata": {},
   "outputs": [
    {
     "data": {
      "text/plain": [
       "coffee_name\n",
       "Americano with Milk    824\n",
       "Latte                  782\n",
       "Americano              578\n",
       "Cappuccino             501\n",
       "Cortado                292\n",
       "Hot Chocolate          282\n",
       "Cocoa                  243\n",
       "Espresso               134\n",
       "Name: count, dtype: int64"
      ]
     },
     "execution_count": 9,
     "metadata": {},
     "output_type": "execute_result"
    }
   ],
   "source": [
    "df.coffee_name.value_counts(ascending=False)"
   ]
  }
 ],
 "metadata": {
  "kernelspec": {
   "display_name": "Python 3",
   "language": "python",
   "name": "python3"
  },
  "language_info": {
   "codemirror_mode": {
    "name": "ipython",
    "version": 3
   },
   "file_extension": ".py",
   "mimetype": "text/x-python",
   "name": "python",
   "nbconvert_exporter": "python",
   "pygments_lexer": "ipython3",
   "version": "3.10.10"
  }
 },
 "nbformat": 4,
 "nbformat_minor": 5
}
